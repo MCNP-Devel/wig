{
 "cells": [
  {
   "cell_type": "markdown",
   "metadata": {},
   "source": [
    "## Example - The Moon Voyage"
   ]
  },
  {
   "cell_type": "markdown",
   "metadata": {},
   "source": [
    "I've waffled on what example to use for ``wig``/``MCNP`` for a while.  All the nuclear stuff that isn't boring is, in general, classified or difficult.  So, I went for something interesting, but completely unrealistic: Jules Verne's *The Moon Voyage*.  In the book, Mr. Verne describes launching a bullet shaped projectile from Tampa to the moon.  I think it'd be interesting to see, among other reasons why the inhabitants would surely be unable to survive, how much radiation dose they would get on their trip.  ``MCNP`` is great for neutral particles, and not so great for continuum interactions, so we'll ignore the cosmic protons here (which are admittedly a huge part of solar radiation), but we will take into account solar photons with their spectrum."
   ]
  },
  {
   "cell_type": "markdown",
   "metadata": {},
   "source": [
    "The first thing we have to do to start the simulation is to import ``wig``.  This is reasonably simple: ``wig`` has a main class, called ``wig.wig`` and then seven other classes, imported below, named (hopefully) self-explanatorially. We should also import ``numpy``, because I can't imagine life without it.  And finally, we import some functions that convert imperial units to centimeters, because Mr. Verne didn't know any better than to use them."
   ]
  },
  {
   "cell_type": "code",
   "execution_count": 1,
   "metadata": {
    "collapsed": true
   },
   "outputs": [],
   "source": [
    "from wig import wig, geo, cell, matl, phys, source, tally\n",
    "import numpy as np\n",
    "# I know this is bad form, but I want to use feet(9) instead of units.feet(9), it's just easier\n",
    "from units import *"
   ]
  },
  {
   "cell_type": "markdown",
   "metadata": {},
   "source": [
    "Now, we'll have to start our scene.  We'll use ``MCNP6`` to make use of the new photon libraries (and photoneutron interactions), so to run this, you'll have to have ``mcnp6`` on your path."
   ]
  },
  {
   "cell_type": "code",
   "execution_count": 2,
   "metadata": {
    "collapsed": true
   },
   "outputs": [],
   "source": [
    "scene = wig.wig(filename='moon_voyage_projectile', flavor='6',\n",
    "                comment='''Solar photons incident on a bullet shaped aluminum\n",
    "                           projectile from Jules Vernes The Moon Voyage''',\n",
    "                render=True)"
   ]
  },
  {
   "cell_type": "markdown",
   "metadata": {},
   "source": [
    "Next, we'll make the geometry.  Note that ``MCNP`` splits geometry and cells into two modules - you'll have to first define geometries and then combine them into cells.  ``wig`` attempts to make this more semantic, but it definitely could still use some help.  Note also that ``wig`` does not have to be written in order.  You could write materials, then physics, then sources, then geometry and cells; however, the geometry and materials **must** be defined before the cells - but that's just basic programming, you have to define variables before you use them.\n",
    "\n",
    "So below, we'll generate a reasonably complex geometry, as Verne describes the projectile as:\n",
    "\n",
    "> ...a cylindro-conical projectile... The projectile outside was nine feet wide and twelve feet high. ...under the wadding were four thick lenticular footlights, two let into the circular wall of the projectile, the third in its lower part...\n",
    "\n",
    "So now let's get to modeling. First, we need the outer surfaces of the bullet.  We'll create a cylinder for the base, a cone for the top, and we'll use a sphere to soften the connection between the cylinder and cone."
   ]
  },
  {
   "cell_type": "code",
   "execution_count": 3,
   "metadata": {
    "collapsed": true
   },
   "outputs": [],
   "source": [
    "# the outside cylinder, centered around the origin - which means the base has to go down halfway\n",
    "# also, we must convert everything from imperial units to centimeters\n",
    "# bullet outer radius in centimeters\n",
    "bullet_or = 4.5 * 12. * 2.540\n",
    "# bullet cylindrical length in centimeters\n",
    "bullet_h = 10. * 12. * 2.540\n",
    "# bullet offset from origin to place the floor at the origin\n",
    "bullet_dz = -19. * 2.540\n",
    "# bullet point height is 12 feet, converted to centimeters\n",
    "bullet_point_z = 16. * 12. * 2.540\n",
    "bocyl = geo.geo().rcc(c=(0., 0., bullet_dz), r=bullet_or, lz=bullet_h, id='bullet_outer_cyl')\n",
    "# the sphere to soften the curve - must hit tangent at the top of the cylinder\n",
    "bosph = geo.geo().sph(c=(0., 0., bullet_dz + bullet_h), r=bullet_or, id='bullet_outer_fillet')\n",
    "# Now the cone going from a point on the sphere, tangent to the sphere, up to a point\n",
    "# find the place on the sphere where it is 45deg tangent\n",
    "dz = bullet_point_z - bullet_h\n",
    "dz1 = ((dz * dz) - (bullet_or * bullet_or)) / dz\n",
    "dz2 = dz - dz1\n",
    "ocone_bottom_h = dz2\n",
    "ocone_bottom_r = np.sqrt((bullet_or * bullet_or) - (dz2 * dz2))\n",
    "# Now find the radius at that point\n",
    "bocone = geo.geo().cone(c=(0., 0., bullet_dz + bullet_h + ocone_bottom_h), r1=ocone_bottom_r, r2=0.1,\n",
    "                        lz=dz1, id='bullet_outer_point')"
   ]
  },
  {
   "cell_type": "markdown",
   "metadata": {},
   "source": [
    "Now, we can add the hollow section, which the book claims is 12\" thick in most places.  We should make the bottom 18\" thick, because it was noted to be thicker at the bottom."
   ]
  },
  {
   "cell_type": "code",
   "execution_count": 4,
   "metadata": {
    "collapsed": true
   },
   "outputs": [],
   "source": [
    "bullet_ir = feet(3.5) #3.5 * 12. * 2.540\n",
    "bullet_ih = feet(8.5) #8.5 * 12. * 2.540\n",
    "bullet_idz = -inches(1) #-1. * 2.540\n",
    "bicyl = geo.geo().rcc(c=(0., 0., bullet_idz), r=bullet_ir, lz=bullet_ih, id='bullet_inner_cyl')\n",
    "# the sphere to soften the curve - must hit tangent at the top of the cylinder\n",
    "bisph = geo.geo().sph(c=(0., 0., bullet_dz + bullet_h), r=bullet_ir, id='bullet_inner_fillet')\n",
    "# Now the cone going from a point on the sphere, tangent to the sphere, up to a point\n",
    "dz = bullet_point_z - bullet_h - feet(1) # (12. * 2.540)\n",
    "dz1 = ((dz * dz) - (bullet_ir * bullet_ir)) / dz\n",
    "dz2 = dz - dz1\n",
    "icone_bottom_h = dz2\n",
    "icone_bottom_r = np.sqrt((bullet_ir * bullet_ir) - (dz2 * dz2))\n",
    "bicone = geo.geo().cone(c=(0., 0., bullet_idz + bullet_ih + icone_bottom_h), r1=icone_bottom_r, r2=0.1,\n",
    "                        lz=dz1, id='bullet_inner_point')"
   ]
  },
  {
   "cell_type": "markdown",
   "metadata": {},
   "source": [
    "There were at least three portholes, each with a brass surround and glass."
   ]
  },
  {
   "cell_type": "code",
   "execution_count": 5,
   "metadata": {
    "collapsed": true
   },
   "outputs": [],
   "source": [
    "phole1 = geo.geo().rcc(c=(0., 0., - inches(19)), r=inches(5.5), lz=inches(20), id='porthole1')\n",
    "pholebrass1 = geo.geo().rcc(c=(0., 0., - inches(19)), r=inches(6), lz=inches(20),\n",
    "                            id='portholebrass1')\n",
    "phole2 = geo.geo().rcc(c=(-feet(4.5), 0., inches(40)), r=inches(5.5), lx=feet(4.5), id='porthole2')\n",
    "pholebrass2 = geo.geo().rcc(c=(-feet(4.5), 0., inches(40)), r=inches(6), lx=feet(4.5),\n",
    "                            id='portholebrass2')\n",
    "phole3 = geo.geo().rcc(c=(0., -feet(4.5), inches(40)), r=inches(5.5), ly=feet(4.5), id='porthole3')\n",
    "pholebrass3 = geo.geo().rcc(c=(0., -feet(4.5), inches(40)), r=inches(6), ly=feet(4.5),\n",
    "                            id='portholebrass3')"
   ]
  },
  {
   "cell_type": "markdown",
   "metadata": {},
   "source": [
    "The book states that there is a plank of wood holding the room which the inhabitants live in.  This is hermetically sealed around the bottom of the inside of the cylinder."
   ]
  },
  {
   "cell_type": "code",
   "execution_count": 6,
   "metadata": {
    "collapsed": true
   },
   "outputs": [],
   "source": [
    "woodcyl = geo.geo().rcc(c=(0., 0., -inches(1)), r=bullet_ir, lz=inches(1), id='wood_disk')"
   ]
  },
  {
   "cell_type": "markdown",
   "metadata": {},
   "source": [
    "Now that we have those, we can add an enclosing universe, and add all the geometry to the model"
   ]
  },
  {
   "cell_type": "code",
   "execution_count": 7,
   "metadata": {},
   "outputs": [],
   "source": [
    "uni = geo.geo().sph(c=(0., 0., 0.), r=feet(15), id='universe')\n",
    "scene.geo([bocyl, bosph, bocone, bicyl, bisph, bicone,\n",
    "           woodcyl,\n",
    "           phole1, phole2, phole3,\n",
    "           pholebrass1, pholebrass2, pholebrass3,\n",
    "           uni])"
   ]
  },
  {
   "cell_type": "markdown",
   "metadata": {},
   "source": [
    "Next, we need to define some materials for this model.  All of these come from the PNNL Compendium."
   ]
  },
  {
   "cell_type": "code",
   "execution_count": 8,
   "metadata": {
    "collapsed": true
   },
   "outputs": [],
   "source": [
    "# air for the insides of the cabin\n",
    "air = matl.matl(rho=0.001205, id='air', mass_perc = [('C', 0.000124), ('N-14', 0.755268), ('O-16', 0.231781),\n",
    "                                                     ('Ar', 0.012827)])\n",
    "# aluminum - note that aluminum alloys were terrible in Jules Verne's time, so I'll just\n",
    "# assume that its pure\n",
    "aluminum = matl.matl(rho=2.6989, id='aluminum', color='#888888', atom_perc = [('Al-27', 1.0)])\n",
    "# The only wood that PNNL gives us is southern pine - but the book is set in Florida,\n",
    "# which is pretty southern, I guess\n",
    "wood = matl.matl(rho=0.640, id='wood', color='#966F33',\n",
    "                 atom_perc = [('H-1', 0.462423), ('C', 0.323389), ('N-14', 0.002773),\n",
    "                              ('O-16', 0.208779), ('Mg', 0.000639), ('S', 0.001211),\n",
    "                              ('K', 0.000397), ('Ca', 0.000388)])\n",
    "# Plate glass for the windows - who knows if they can be casted that thick\n",
    "glass = matl.matl(rho=2.4, id='glass', color='#7299c6', alpha=0.4,\n",
    "                  atom_perc = [('O-16', 0.603858), ('Na-23', 0.088145), ('Si', 0.251791),\n",
    "                               ('Ca', 0.056205)])\n",
    "# Brass for the surrounds on the outside of the windows\n",
    "brass = matl.matl(rho=1.0, id='brass', color='#b5a642',\n",
    "                  atom_perc=[('Fe', 0.001002), ('Cu', 0.674918), ('Zn', 0.320956),\n",
    "                             ('Sn', 0.001451), ('Pb', 0.001673)])\n",
    "void = matl.matl(rho=0.0, id='void', mass_perc = [])\n",
    "scene.matl([air, aluminum, wood, glass, brass])"
   ]
  },
  {
   "cell_type": "markdown",
   "metadata": {},
   "source": [
    "Now, to make the cells using the geometry and the materials."
   ]
  },
  {
   "cell_type": "code",
   "execution_count": 9,
   "metadata": {
    "collapsed": true
   },
   "outputs": [],
   "source": [
    "%%capture\n",
    "bullet_cell = cell.cell(bocyl + bosph + bocone - bicyl - bisph - bicone - \n",
    "                        pholebrass1 - pholebrass2 - pholebrass3, aluminum)\n",
    "wood_cell = cell.cell(woodcyl - pholebrass1, wood)\n",
    "window_1_b = cell.cell(pholebrass1 - phole1 - bicyl, brass)\n",
    "window_1 = cell.cell(phole1 - bicyl, glass)\n",
    "window_2_b = cell.cell(pholebrass2 - phole2 - bicyl, brass)\n",
    "window_2 = cell.cell(phole2 - bicyl, glass)\n",
    "window_3_b = cell.cell(pholebrass3 - phole3 - bicyl, brass)\n",
    "window_3 = cell.cell(phole3 - bicyl, glass)\n",
    "air_cell = cell.cell(bicyl + bisph + bicone - woodcyl, air, show=False)\n",
    "uni_cell = cell.cell(uni - bocyl - bosph - bocone, void, show=False)\n",
    "scene.cell([bullet_cell, wood_cell,\n",
    "            window_1, window_2, window_3,\n",
    "            window_1_b, window_2_b, window_3_b,\n",
    "            air_cell, uni_cell])"
   ]
  },
  {
   "cell_type": "markdown",
   "metadata": {},
   "source": [
    "Now that we have the geometry built, we need some details about the physics.  We're only going to take into account photons for now, and their energies need to span a huge range - we'll span the entire range of the solar irradiance dataset from Wehrli 1985, which is $199.5\\mathrm{nm}$ to $10075.0\\mathrm{nm}$ (or $.123\\mathrm{eV}$  to $6.2\\mathrm{eV}$)."
   ]
  },
  {
   "cell_type": "code",
   "execution_count": 10,
   "metadata": {
    "collapsed": true
   },
   "outputs": [],
   "source": [
    "# Add some typical neutron physics\n",
    "physics = phys.phys(particles='p', nps=1E8, maxE=6.2E-6, minE=0.123E-6)\n",
    "scene.phys(physics)"
   ]
  },
  {
   "cell_type": "markdown",
   "metadata": {},
   "source": [
    "Now, we'll add a source.  The projectile is far enough from the sun to assume that the sun is a plane source.  We'll add a source covering the projectile to the $-x$ direction in our model.  The spectrum is taken from the ASTM E490-0 AM0 old Spectrum from NREL and Wehrli.  I've downloaded a text file from NREL and will use it to plot the spectrum below. Then, we'll have to convert this to flux instead of irradiance using the formula $$F\\left(\\lambda\\right) = \\Phi E \\frac{1}{\\Delta \\lambda}$$ and by solving for $\\Phi$ $$\\Phi = F\\left(\\lambda\\right)\\frac{\\Delta\\lambda}{E}$$ We're using a couple libraries I maintain for data analysis and plotting called [``pym``](https://alexhagen.github.io/pym) and [``pyg``](http://alexhagen.github.io/pyg), respectively."
   ]
  },
  {
   "cell_type": "code",
   "execution_count": 11,
   "metadata": {},
   "outputs": [
    {
     "data": {
      "text/html": [
       "\n",
       "\t\t\t\t<div class='pygfigure' name='solspec' style='text-align: center; max-width: 800px; margin-left: auto; margin-right: auto;'>\n",
       "\t\t\t\t\t<img style='margin: auto; max-width:100%; width:1250.000000px; height: auto;' src='solar_spectrum.svg?1032493733' />\n",
       "\t\t\t\t\t<div style='margin: auto; text-align: center;' class='figurecaption'><b>Figure 1:</b> The solar spectrum from Wehrli 1985 in energy units</div>\n",
       "\t\t\t\t</div>\n",
       "\t\t\t"
      ],
      "text/plain": [
       "<IPython.core.display.HTML object>"
      ]
     },
     "metadata": {},
     "output_type": "display_data"
    }
   ],
   "source": [
    "from pym import func as pym\n",
    "from pyg import twod as pyg2d\n",
    "import shutil\n",
    "# Wehrli gives irradiance in W/m^2/nm\n",
    "wavelength, irradiance, _ = \\\n",
    "    np.loadtxt(scene.original_directory + '/wehrli85.txt', unpack=True, skiprows=2)\n",
    "h = 4.135668E-15 # planck's constant in eV s\n",
    "c = 2.998E+17 #speed of light in nm/s\n",
    "E = h * (c / np.array(wavelength))\n",
    "# Conversion to flux (and converting eV to J)\n",
    "Phi = (irradiance / (E * 1.6E-19)) * wavelength\n",
    "flux_spectrum = pym.curve(E, Phi, name='solar_flux_spectrum')\n",
    "plot = flux_spectrum.plot(linestyle='-')\n",
    "plot.xlabel(r'Photon Energy ($E$) [$\\mathrm{eV}$]')\n",
    "plot.ylabel(r'Flux ($\\Phi$) [$\\mathrm{\\frac{\\text{photon}}{m^{2} \\cdot s}}$]')\n",
    "plot.markers_off()\n",
    "plot.export('solar_spectrum', ratio='silver')\n",
    "shutil.copy('solar_spectrum.svg', scene.original_directory + '/solar_spectrum.svg')\n",
    "plot.show('The solar spectrum from Wehrli 1985 in energy units', label='solspec')"
   ]
  },
  {
   "cell_type": "code",
   "execution_count": 12,
   "metadata": {
    "collapsed": true
   },
   "outputs": [],
   "source": [
    "# add the source\n",
    "sun = source.source(particle='p', pos=(0., -feet(8), feet(6)), id='sun',\n",
    "                    shape='disk', direction='+y', radius=feet(12), \n",
    "                    spectrum=[E, Phi])\n",
    "scene.source([sun])"
   ]
  },
  {
   "cell_type": "markdown",
   "metadata": {},
   "source": [
    "And let's check a tally or two.  I think we'd like to have a flux tally inside of the chamber, and also a heating tally in the bullet cell. These commands should be pretty semantic"
   ]
  },
  {
   "cell_type": "code",
   "execution_count": 13,
   "metadata": {
    "collapsed": true
   },
   "outputs": [],
   "source": [
    "# add some tallys\n",
    "mesh_tally = tally.tally(comment='compartment_mesh', particle='p')\\\n",
    "    .mesh_tally(xmin=-feet(4.5), xmax=feet(4.5), i=9*12,\n",
    "                ymin=-feet(4.5), ymax=feet(4.5), j=9*12,\n",
    "                zmin=0.0, zmax=feet(10), k=10*12)\n",
    "energy_tally = tally.tally(comment='aluminum_heating', particle='p', energy=[0.123E-6, 6.2E-6])\\\n",
    "    .energy_tally(tally_cell=bullet_cell)\n",
    "\n",
    "scene.tally([energy_tally, mesh_tally])"
   ]
  },
  {
   "cell_type": "markdown",
   "metadata": {},
   "source": [
    "Now, we can run it.  We want to do a rendering of the geometry, so we'll look at that first."
   ]
  },
  {
   "cell_type": "code",
   "execution_count": 14,
   "metadata": {},
   "outputs": [],
   "source": [
    "scene2 = scene.bscene\n",
    "scene2.cutaway(c=(100., 100., feet(8)), l=(200., 200., feet(20)))\n",
    "scene2.run(res=[1080, 1920], samples=100, \n",
    "           c=(0., 0., feet(6)), camera_location=(700., 700., 375.))"
   ]
  },
  {
   "cell_type": "code",
   "execution_count": 15,
   "metadata": {},
   "outputs": [
    {
     "data": {
      "text/html": [
       "\n",
       "\t\t\t\t<div class='pygfigure' name='moonvoyageprojectile' style='text-align: center; max-width: 800px; margin-left: auto; margin-right: auto;'>\n",
       "\t\t\t\t\t<img style='margin: auto; max-width:100%; width:1250.000000px; height: auto;' src='moon_voyage.svg?1678790463' />\n",
       "\t\t\t\t\t<div style='margin: auto; text-align: center;' class='figurecaption'><b>Figure 2:</b> Depiction of the Moon Voyage's cylindo-conical projectile</div>\n",
       "\t\t\t\t</div>\n",
       "\t\t\t"
      ],
      "text/plain": [
       "<IPython.core.display.HTML object>"
      ]
     },
     "metadata": {},
     "output_type": "display_data"
    }
   ],
   "source": [
    "from pyg import three2twod as pyg32d\n",
    "\n",
    "shutil.copy('brender_01.png', scene.original_directory + '/moon_voyage.png')\n",
    "plot = pyg32d.ann_im(scene.original_directory + '/moon_voyage.png')\n",
    "plot.add_data_pointer(0., -feet(8), feet(6) + feet(12),\n",
    "                      string=r'Sun (disk photon source)',\n",
    "                      place=(-200., 200.))\n",
    "plot.add_legend_entry(color='#888888', name='Aluminum')\\\n",
    "    .add_legend_entry(color='#b5a642', name='Brass')\\\n",
    "    .add_legend_entry(color='#7299c6', alpha=0.4, name='Glass')\\\n",
    "    .add_legend_entry(color='#966F33', name='Wood')\n",
    "plot.legend(loc=2)\n",
    "plot.export('moon_voyage', force=True, ratio='invgolden')\n",
    "shutil.copy('moon_voyage.svg', scene.original_directory + '/moon_voyage.svg')\n",
    "plot.show('Depiction of the Moon Voyage\\'s cylindo-conical projectile',\n",
    "          label='moonvoyageprojectile')"
   ]
  },
  {
   "cell_type": "markdown",
   "metadata": {
    "collapsed": true
   },
   "source": [
    "And finally, we can run it.  I'll check back in in a week or so with the results!"
   ]
  },
  {
   "cell_type": "code",
   "execution_count": 16,
   "metadata": {
    "collapsed": true
   },
   "outputs": [],
   "source": [
    "%%capture\n",
    "#scene.run(render=False)"
   ]
  }
 ],
 "metadata": {
  "hide_input": false,
  "kernelspec": {
   "display_name": "Python 2",
   "language": "python",
   "name": "python2"
  },
  "language_info": {
   "codemirror_mode": {
    "name": "ipython",
    "version": 2
   },
   "file_extension": ".py",
   "mimetype": "text/x-python",
   "name": "python",
   "nbconvert_exporter": "python",
   "pygments_lexer": "ipython2",
   "version": "2.7.12"
  },
  "latex_envs": {
   "LaTeX_envs_menu_present": true,
   "autocomplete": true,
   "bibliofile": "bibs/dissertation.bib",
   "cite_by": "apalike",
   "current_citInitial": 1,
   "eqLabelWithNumbers": true,
   "eqNumInitial": 1,
   "hotkeys": {
    "equation": "Ctrl-E",
    "itemize": "Ctrl-I"
   },
   "labels_anchors": false,
   "latex_user_defs": false,
   "report_style_numbering": false,
   "user_envs_cfg": false
  }
 },
 "nbformat": 4,
 "nbformat_minor": 2
}
