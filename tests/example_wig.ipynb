{
 "cells": [
  {
   "cell_type": "markdown",
   "metadata": {},
   "source": [
    "## Example"
   ]
  },
  {
   "cell_type": "markdown",
   "metadata": {},
   "source": [
    "I've waffled on what example to use for ``wig``/``MCNP`` for a while.  All the nuclear stuff that isn't boring is, in general, classified or difficult.  So, I went for the \"hello world\" of modeling - modeling the text ``wig``."
   ]
  },
  {
   "cell_type": "markdown",
   "metadata": {},
   "source": [
    "The first thing we have to do to start the simulation is to import ``wig``.  This is reasonably simple: ``wig`` has a main class, called ``wig.wig`` and then seven other classes, imported below, named (hopefully) self-explanatorially. We should also import ``numpy``, because I can't imagine life without it."
   ]
  },
  {
   "cell_type": "code",
   "execution_count": 1,
   "metadata": {},
   "outputs": [
    {
     "name": "stderr",
     "output_type": "stream",
     "text": [
      "/usr/local/lib/python2.7/dist-packages/matplotlib/__init__.py:1405: UserWarning: \n",
      "This call to matplotlib.use() has no effect because the backend has already\n",
      "been chosen; matplotlib.use() must be called *before* pylab, matplotlib.pyplot,\n",
      "or matplotlib.backends is imported for the first time.\n",
      "\n",
      "  warnings.warn(_use_error_msg)\n"
     ]
    }
   ],
   "source": [
    "from wig import wig, geo, cell, matl, phys, source, tally\n",
    "import numpy as np"
   ]
  },
  {
   "cell_type": "code",
   "execution_count": 2,
   "metadata": {
    "collapsed": true
   },
   "outputs": [],
   "source": [
    "scene = wig.wig(filename='wig_logo', flavor='6',\n",
    "                comment='''The text wig written in hacky/blocky font''',\n",
    "                render=True)"
   ]
  },
  {
   "cell_type": "code",
   "execution_count": 3,
   "metadata": {
    "collapsed": true
   },
   "outputs": [],
   "source": [
    "wu1 = geo.geo().rpp(x=[-70., -60.], y=[-5.0, 5.0], z=[0., 70.], id='w_upright_1')\n",
    "wu2 = geo.geo().rpp(x=[-50., -40.], y=[-5.0, 5.0], z=[0., 40.], id='w_upright_2')\n",
    "wu3 = geo.geo().rpp(x=[-30., -20.], y=[-5.0, 5.0], z=[0., 70.], id='w_upright_3')\n",
    "wbase = geo.geo().rpp(x=[-70., -20.], y=[-5.0, 5.0], z=[0., 10.], id='w_base')\n",
    "ibase = geo.geo().rcc(c=(0., 0., 0.), lz=50.0, r=5.0, id='i_base')\n",
    "idot = geo.geo().sph(c=(0., 0., 60.), r=5.0, id='i_dot')\n",
    "gout = geo.geo().rcc(c=(40., -5.0, 25.), r=25.0, ly=10.0, id='gout')\n",
    "gin = geo.geo().rcc(c=(40., -5.0 - 1., 25.), r=15.0 , ly=10.0 + 2., id='gin')\n",
    "gtail1 = geo.geo().rpp(x=[55., 65.], y=[-5., 5.], z=[-25., 0.0], id='gtail1')\n",
    "gtail2 = geo.geo().rpp(x=[55., 15.], y=[-5., 5.], z=[-25., -15.], id='gtail2')\n",
    "floor = geo.geo().rpp(x=[-100., 15.], y=[-50., 50.], z=[-50., 0.], id='floor')\n",
    "universe = geo.geo().sph(c=(0., 0., 0.), r=250., id='universe')\n",
    "scene.geo([wu1, wu2, wu3, wbase, ibase, idot, gout, gin, floor, gtail1, gtail2, universe])"
   ]
  },
  {
   "cell_type": "code",
   "execution_count": 4,
   "metadata": {
    "collapsed": true
   },
   "outputs": [],
   "source": [
    "al = matl.matl(id='aluminum', rho=40.0, atom_perc=[('Al-27', 1.0)], color='#3b3c5a')\n",
    "concrete = matl.matl(id='concrete', rho=40.0, atom_perc=[('U-235', 1.0)], color='#a7a9ac')\n",
    "tungsten = matl.matl(id='tungsten', rho=19.3, color='#746660',\n",
    "                     atom_perc=[('W-182', 0.2650), ('W-183', 0.1431),\n",
    "                                ('W-184', 0.3064), ('W-186', 0.2843)])\n",
    "void = matl.air()\n",
    "scene.matl([al, concrete, tungsten, void])"
   ]
  },
  {
   "cell_type": "code",
   "execution_count": 5,
   "metadata": {},
   "outputs": [],
   "source": [
    "wcell = cell.cell(wbase + wu1 + wu2 + wu3, al)\n",
    "gcell = cell.cell((gout + gtail1 + gtail2) - gin, tungsten)\n",
    "scene.cell([wcell, gcell,\n",
    "            ibase.cell(al), idot.cell(al), floor.cell(concrete)], universe_matl=void)"
   ]
  },
  {
   "cell_type": "code",
   "execution_count": 6,
   "metadata": {},
   "outputs": [],
   "source": [
    "physics = phys.phys(particles='n', ctme=30., minE=1.0E-3, maxE=20.0)\n",
    "scene.phys(physics)"
   ]
  },
  {
   "cell_type": "code",
   "execution_count": 7,
   "metadata": {
    "collapsed": true
   },
   "outputs": [],
   "source": [
    "planesrc = source.source(shape='plane', lx=[-60., 65.], ly=[-45.], lz=[0., 70.],\n",
    "                         direction='+y', particle='n', spectrum=15.0, id='planesrc')\n",
    "scene.source([planesrc])"
   ]
  },
  {
   "cell_type": "code",
   "execution_count": 8,
   "metadata": {},
   "outputs": [],
   "source": [
    "back_plane = tally.tally(particle='n', comment='plane')\\\n",
    "    .mesh_tally(xmin=-80.0, xmax=80.0, i=160, ymin=95., ymax=105., j=1,\n",
    "                zmin=-30.0, zmax=80.0, k=110)\n",
    "scene.tally([back_plane])"
   ]
  },
  {
   "cell_type": "code",
   "execution_count": 9,
   "metadata": {},
   "outputs": [
    {
     "name": "stdout",
     "output_type": "stream",
     "text": [
      "ampersand\n",
      "sdef    par=n vec=0 1 0 dir=1 X=d1 Y=-45.000000 Z=d2 erg=1.50 |\tsdef    par=n vec=0 -1 0 dir=1 X=d1 Y=-45.000000 Z=d2 erg=7.0\n",
      "cut:n j 1.000000e-03\t\t\t\t\t      |\tcut:n j 1.000000e-08                                         \n",
      "m2    92235 1.0000000000e+00\t\t\t\t      |\tm2     6012 1.0000000000e+00                                 \n",
      "\n",
      "4\n",
      "The differences in between files is :\n",
      "sdef    par=n vec=0 1 0 dir=1 X=d1 Y=-45.000000 Z=d2 erg=1.50 |\tsdef    par=n vec=0 -1 0 dir=1 X=d1 Y=-45.000000 Z=d2 erg=7.0\n",
      "cut:n j 1.000000e-03\t\t\t\t\t      |\tcut:n j 1.000000e-08                                         \n",
      "m2    92235 1.0000000000e+00\t\t\t\t      |\tm2     6012 1.0000000000e+00                                 \n",
      "\n",
      "So running the MCNP deck\n"
     ]
    },
    {
     "data": {
      "text/html": [
       "<img src=\"/files/mcnp/active/brender_01.png?791504240\" \\/>"
      ],
      "text/plain": [
       "<IPython.core.display.HTML object>"
      ]
     },
     "metadata": {},
     "output_type": "display_data"
    },
    {
     "name": "stdout",
     "output_type": "stream",
     "text": [
      "['nohup', 'mcnp6', 'inp=wig_logo.inp', 'out=wig_logo.out', 'run=wig_logo_runtpe', 'mctal=wig_logo_tallies.out', 'meshtal=wig_logo.meshtal', 'tasks 3']\n"
     ]
    }
   ],
   "source": [
    "scene.run(clean=True, render=True, camera_location=(200., -200., 200.))"
   ]
  },
  {
   "cell_type": "code",
   "execution_count": null,
   "metadata": {
    "collapsed": true
   },
   "outputs": [],
   "source": []
  }
 ],
 "metadata": {
  "hide_input": false,
  "kernelspec": {
   "display_name": "Python 2",
   "language": "python",
   "name": "python2"
  },
  "language_info": {
   "codemirror_mode": {
    "name": "ipython",
    "version": 2
   },
   "file_extension": ".py",
   "mimetype": "text/x-python",
   "name": "python",
   "nbconvert_exporter": "python",
   "pygments_lexer": "ipython2",
   "version": "2.7.12"
  },
  "latex_envs": {
   "LaTeX_envs_menu_present": true,
   "autocomplete": true,
   "bibliofile": "bibs/dissertation.bib",
   "cite_by": "apalike",
   "current_citInitial": 1,
   "eqLabelWithNumbers": true,
   "eqNumInitial": 1,
   "hotkeys": {
    "equation": "Ctrl-E",
    "itemize": "Ctrl-I"
   },
   "labels_anchors": false,
   "latex_user_defs": false,
   "report_style_numbering": false,
   "user_envs_cfg": false
  }
 },
 "nbformat": 4,
 "nbformat_minor": 2
}
